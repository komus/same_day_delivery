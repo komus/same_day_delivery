{
 "cells": [
  {
   "cell_type": "code",
   "execution_count": 1,
   "id": "9b82be33-49fc-49d4-8f6c-6c5c8f175819",
   "metadata": {},
   "outputs": [],
   "source": [
    "%load_ext lab_black"
   ]
  },
  {
   "cell_type": "code",
   "execution_count": 2,
   "id": "6761f638-1c66-412b-8ab9-56e25fae49bd",
   "metadata": {},
   "outputs": [],
   "source": [
    "import pandas as pd\n",
    "import numpy as np\n",
    "import json\n",
    "import uuid\n",
    "from typing import Tuple, List, Optional\n",
    "from dataclasses import dataclass\n",
    "\n",
    "from joblib import Parallel, delayed"
   ]
  },
  {
   "cell_type": "code",
   "execution_count": 3,
   "id": "a7383bd4-c8bf-4e73-8253-0409349e66d6",
   "metadata": {},
   "outputs": [],
   "source": [
    "@dataclass\n",
    "class Drop:\n",
    "    drop_type: str\n",
    "    latitude: float\n",
    "    longitude: float\n",
    "    leg_distance: int\n",
    "    estimated_arrival: pd.Timestamp\n",
    "    customer_id: Optional[str] = None\n",
    "    delivery_window_start: Optional[pd.Timestamp] = None\n",
    "    delivery_window_end: Optional[pd.Timestamp] = None\n",
    "\n",
    "    def to_pandas(self) -> pd.Series:\n",
    "        return pd.Series(\n",
    "            data={\n",
    "                \"drop_type\": self.drop_type,\n",
    "                \"latitude\": self.latitude,\n",
    "                \"longitude\": self.longitude,\n",
    "                \"leg_distance\": self.leg_distance,\n",
    "                \"estimated_arrival\": self.estimated_arrival,\n",
    "                \"customer_id\": self.customer_id,\n",
    "                \"delivery_window_start\": self.delivery_window_start,\n",
    "                \"delivery_window_end\": self.delivery_window_end,\n",
    "            }\n",
    "        )\n",
    "\n",
    "    @classmethod\n",
    "    def from_json(cls, input_obj: dict):\n",
    "        if input_obj[\"drop_type\"] == \"DEPOT_VISIT\":\n",
    "            return cls(\n",
    "                drop_type=input_obj[\"drop_type\"],\n",
    "                latitude=input_obj[\"coordinates\"][\"latitude\"],\n",
    "                longitude=input_obj[\"coordinates\"][\"longitude\"],\n",
    "                leg_distance=input_obj[\"leg_distance\"],\n",
    "                estimated_arrival=input_obj[\"estimated_arrival\"],\n",
    "            )\n",
    "        elif input_obj[\"drop_type\"] == \"CUSTOMER_DROP\":\n",
    "            return cls(\n",
    "                drop_type=input_obj[\"drop_type\"],\n",
    "                latitude=input_obj[\"customer\"][\"coordinates\"][\"latitude\"],\n",
    "                longitude=input_obj[\"customer\"][\"coordinates\"][\"longitude\"],\n",
    "                leg_distance=input_obj[\"leg_distance\"],\n",
    "                estimated_arrival=input_obj[\"estimated_arrival\"],\n",
    "                customer_id=input_obj[\"customer\"][\"id\"],\n",
    "                delivery_window_start=input_obj[\"delivery_window\"][\"start\"],\n",
    "                delivery_window_end=input_obj[\"delivery_window\"][\"end\"],\n",
    "            )\n",
    "\n",
    "        else:\n",
    "            raise NotImplementedError(\n",
    "                \"No such decoder for drop_type: \" + {input_obj[\"drop_type\"]}\n",
    "            )"
   ]
  },
  {
   "cell_type": "code",
   "execution_count": 4,
   "id": "944842db-ff24-4545-822c-78a88ddbdc91",
   "metadata": {},
   "outputs": [],
   "source": [
    "@dataclass\n",
    "class Route:\n",
    "    route_id: str\n",
    "    vehicle_id: str\n",
    "    loaded_drops: List[Drop]\n",
    "    unloaded_drops: List[Drop]\n",
    "\n",
    "    @classmethod\n",
    "    def from_json(cls, input_obj: dict):\n",
    "        return cls(\n",
    "            route_id=input_obj[\"id\"],\n",
    "            vehicle_id=input_obj[\"vehicle_id\"],\n",
    "            loaded_drops=[Drop.from_json(d) for d in input_obj[\"loaded_drops\"]],\n",
    "            unloaded_drops=[Drop.from_json(d) for d in input_obj[\"unloaded_drops\"]],\n",
    "        )\n",
    "\n",
    "    def to_pandas(self):\n",
    "        loaded_drops = pd.DataFrame([d.to_pandas() for d in self.loaded_drops])\n",
    "        loaded_drops[\"type\"] = \"loaded_drop\"\n",
    "\n",
    "        unloaded_drops = pd.DataFrame([d.to_pandas() for d in self.unloaded_drops])\n",
    "        unloaded_drops[\"type\"] = \"unloaded_drop\"\n",
    "\n",
    "        drops = pd.concat([loaded_drops, unloaded_drops], axis=0)\n",
    "        drops[\"route_id\"] = self.route_id\n",
    "        drops[\"vehicle_id\"] = self.vehicle_id\n",
    "\n",
    "        return drops.reset_index(drop=True)"
   ]
  },
  {
   "cell_type": "code",
   "execution_count": 5,
   "id": "5b7a789d-2f0a-4bdc-baf0-0a8aa3c52327",
   "metadata": {},
   "outputs": [],
   "source": [
    "@dataclass\n",
    "class Episode:\n",
    "    uuid: str\n",
    "    episode_index: int\n",
    "    shift_start: pd.Timestamp\n",
    "    shift_end: pd.Timestamp\n",
    "    order_timestamp: pd.Timestamp\n",
    "    routes: List[Route]\n",
    "    route_update: List[Route]\n",
    "    revenue: float\n",
    "\n",
    "    def to_pandas(self) -> pd.Series:\n",
    "        episode_data = pd.Series(\n",
    "            {\n",
    "                \"uuid\": self.uuid,\n",
    "                \"episode_index\": self.episode_index,\n",
    "                \"shift_start\": self.shift_start,\n",
    "                \"shift_end\": self.shift_end,\n",
    "                \"order_timestamp\": self.order_timestamp,\n",
    "                \"revenue\": self.revenue,\n",
    "            }\n",
    "        )\n",
    "        routes_data = self.__get_routes()\n",
    "\n",
    "        return episode_data, routes_data\n",
    "\n",
    "    def __get_routes(self):\n",
    "        routes = pd.concat([r.to_pandas() for r in self.routes], axis=0)\n",
    "        routes[\"update\"] = False\n",
    "\n",
    "        route_update = self.route_update.to_pandas()\n",
    "        route_update[\"update\"] = True\n",
    "\n",
    "        routes_data = pd.concat([routes, route_update], axis=0)\n",
    "        routes_data[\"episode_index\"] = self.episode_index\n",
    "        routes_data[\"episode_uuid\"] = self.uuid\n",
    "\n",
    "        return routes_data"
   ]
  },
  {
   "cell_type": "code",
   "execution_count": 6,
   "id": "f0cf7a0a-7684-4286-8916-7e1a3682a1a1",
   "metadata": {},
   "outputs": [],
   "source": [
    "class EpisodeDecoder(json.JSONDecoder):\n",
    "    def decode(self, input_string: str):\n",
    "        parsed_objects = super(EpisodeDecoder, self).decode(input_string)\n",
    "\n",
    "        return self.__do_decode(parsed_objects).to_pandas()\n",
    "\n",
    "    @staticmethod\n",
    "    def __do_decode(input_object):\n",
    "        return Episode(\n",
    "            uuid=str(uuid.uuid4()),\n",
    "            episode_index=input_object[\"episode_index\"],\n",
    "            shift_start=input_object[\"shift_start\"],\n",
    "            shift_end=input_object[\"shift_end\"],\n",
    "            order_timestamp=input_object[\"order_timestamp\"],\n",
    "            routes=[Route.from_json(r) for r in input_object[\"routes\"]],\n",
    "            route_update=Route.from_json(input_object[\"route_update\"]),\n",
    "            revenue=input_object[\"revenue\"],\n",
    "        )"
   ]
  },
  {
   "cell_type": "code",
   "execution_count": 7,
   "id": "d2928c47-38d7-40e0-bfd8-aa511ef32bcc",
   "metadata": {},
   "outputs": [],
   "source": [
    "with open(\"real_experiences_m_ch.jsonl\", \"r\") as f:\n",
    "    lines = f.readlines()"
   ]
  },
  {
   "cell_type": "code",
   "execution_count": 8,
   "id": "e7adf473-103e-4cb9-a678-1dd58915c6ef",
   "metadata": {},
   "outputs": [
    {
     "data": {
      "text/plain": [
       "6000"
      ]
     },
     "execution_count": 8,
     "metadata": {},
     "output_type": "execute_result"
    }
   ],
   "source": [
    "len(lines)"
   ]
  },
  {
   "cell_type": "code",
   "execution_count": 9,
   "id": "b8d58902-7bfe-49c2-85fc-130ac95cc5ab",
   "metadata": {},
   "outputs": [
    {
     "name": "stdout",
     "output_type": "stream",
     "text": [
      "Wall time: 1min 38s\n"
     ]
    }
   ],
   "source": [
    "%%time\n",
    "\n",
    "episodes, routes = zip(*Parallel(n_jobs=4)(\n",
    "    delayed(json.loads)(l, cls=EpisodeDecoder) for l in lines\n",
    "))"
   ]
  },
  {
   "cell_type": "code",
   "execution_count": 10,
   "id": "84379612-4b44-4f89-ab70-1f44440fa03a",
   "metadata": {},
   "outputs": [],
   "source": [
    "episodes = pd.DataFrame(episodes)\n",
    "routes = pd.concat(routes, axis=0).reset_index(drop=True)"
   ]
  },
  {
   "cell_type": "code",
   "execution_count": 11,
   "id": "b2df6f64-d035-4456-a034-1998ee91ae3b",
   "metadata": {},
   "outputs": [
    {
     "data": {
      "text/plain": [
       "(6000, 6)"
      ]
     },
     "execution_count": 11,
     "metadata": {},
     "output_type": "execute_result"
    }
   ],
   "source": [
    "episodes.shape"
   ]
  },
  {
   "cell_type": "code",
   "execution_count": 12,
   "id": "33d7b589-27b7-42ce-832a-5bede96d46cc",
   "metadata": {},
   "outputs": [
    {
     "data": {
      "text/plain": [
       "(269387, 14)"
      ]
     },
     "execution_count": 12,
     "metadata": {},
     "output_type": "execute_result"
    }
   ],
   "source": [
    "routes.shape"
   ]
  },
  {
   "cell_type": "code",
   "execution_count": 13,
   "id": "8370bb2f-1c40-4f42-98db-326acb0d6f54",
   "metadata": {},
   "outputs": [
    {
     "data": {
      "text/plain": [
       "6000"
      ]
     },
     "execution_count": 13,
     "metadata": {},
     "output_type": "execute_result"
    }
   ],
   "source": [
    "routes[\"episode_uuid\"].nunique()"
   ]
  },
  {
   "cell_type": "code",
   "execution_count": null,
   "id": "55409dba-c88f-495f-b13c-b38031d6c74a",
   "metadata": {},
   "outputs": [],
   "source": []
  }
 ],
 "metadata": {
  "environment": {
   "kernel": "python3",
   "name": "pytorch-gpu.1-9.m82",
   "type": "gcloud",
   "uri": "gcr.io/deeplearning-platform-release/pytorch-gpu.1-9:m82"
  },
  "kernelspec": {
   "display_name": "Python 3",
   "language": "python",
   "name": "python3"
  },
  "language_info": {
   "codemirror_mode": {
    "name": "ipython",
    "version": 3
   },
   "file_extension": ".py",
   "mimetype": "text/x-python",
   "name": "python",
   "nbconvert_exporter": "python",
   "pygments_lexer": "ipython3",
   "version": "3.10.0"
  }
 },
 "nbformat": 4,
 "nbformat_minor": 5
}
